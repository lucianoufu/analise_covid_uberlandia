{
  "nbformat": 4,
  "nbformat_minor": 0,
  "metadata": {
    "colab": {
      "provenance": []
    },
    "kernelspec": {
      "name": "python3",
      "display_name": "Python 3"
    },
    "language_info": {
      "name": "python"
    }
  },
  "cells": [
    {
      "cell_type": "code",
      "metadata": {
        "id": "Hbz6ljt8FKkN"
      },
      "source": [
        "import numpy  as np\n",
        "import pandas as pd\n",
        "import matplotlib.pyplot as plt\n",
        "from google.colab import files"
      ],
      "execution_count": null,
      "outputs": []
    },
    {
      "cell_type": "code",
      "metadata": {
        "colab": {
          "resources": {
            "http://localhost:8080/nbextensions/google.colab/files.js": {
              "data": "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",
              "ok": true,
              "headers": [
                [
                  "content-type",
                  "application/javascript"
                ]
              ],
              "status": 200,
              "status_text": ""
            }
          },
          "base_uri": "https://localhost:8080/",
          "height": 72
        },
        "id": "bvqPiTOcFQgm",
        "outputId": "bfce0ed5-0221-440c-810a-ad01945051ed"
      },
      "source": [
        "from google.colab import files\n",
        "uploaded = files.upload()"
      ],
      "execution_count": null,
      "outputs": [
        {
          "output_type": "display_data",
          "data": {
            "text/html": [
              "\n",
              "     <input type=\"file\" id=\"files-87b303e1-3a30-4da2-81e8-c024458d3c0c\" name=\"files[]\" multiple disabled\n",
              "        style=\"border:none\" />\n",
              "     <output id=\"result-87b303e1-3a30-4da2-81e8-c024458d3c0c\">\n",
              "      Upload widget is only available when the cell has been executed in the\n",
              "      current browser session. Please rerun this cell to enable.\n",
              "      </output>\n",
              "      <script src=\"/nbextensions/google.colab/files.js\"></script> "
            ],
            "text/plain": [
              "<IPython.core.display.HTML object>"
            ]
          },
          "metadata": {
            "tags": []
          }
        },
        {
          "output_type": "stream",
          "text": [
            "Saving MicrodadosCovid.csv to MicrodadosCovid (2).csv\n"
          ],
          "name": "stdout"
        }
      ]
    },
    {
      "cell_type": "code",
      "metadata": {
        "id": "oZSPwlbcFVWS"
      },
      "source": [
        "micro_dados = pd.read_csv(\"MicrodadosCovid.csv\", sep = \";\", encoding=\"ISO-8859-1\")\n",
        "pd.read_"
      ],
      "execution_count": null,
      "outputs": []
    },
    {
      "cell_type": "code",
      "metadata": {
        "id": "Um6Y4p6OHp9N",
        "colab": {
          "base_uri": "https://localhost:8080/",
          "height": 204
        },
        "outputId": "a32eb069-f0f8-4710-acf1-7900eadf8452"
      },
      "source": [
        "micro_dados.head()"
      ],
      "execution_count": null,
      "outputs": [
        {
          "output_type": "execute_result",
          "data": {
            "text/html": [
              "<div>\n",
              "<style scoped>\n",
              "    .dataframe tbody tr th:only-of-type {\n",
              "        vertical-align: middle;\n",
              "    }\n",
              "\n",
              "    .dataframe tbody tr th {\n",
              "        vertical-align: top;\n",
              "    }\n",
              "\n",
              "    .dataframe thead th {\n",
              "        text-align: right;\n",
              "    }\n",
              "</style>\n",
              "<table border=\"1\" class=\"dataframe\">\n",
              "  <thead>\n",
              "    <tr style=\"text-align: right;\">\n",
              "      <th></th>\n",
              "      <th>BASEDATA</th>\n",
              "      <th>CARDIOPATIA</th>\n",
              "      <th>DIABETES</th>\n",
              "      <th>FAIXAETARIA</th>\n",
              "      <th>INTERNACAO</th>\n",
              "      <th>MUNICIPIORESIDENCIA</th>\n",
              "      <th>NEUROLOGICA</th>\n",
              "      <th>NOMEBAIRRO</th>\n",
              "      <th>SEXO</th>\n",
              "    </tr>\n",
              "  </thead>\n",
              "  <tbody>\n",
              "    <tr>\n",
              "      <th>0</th>\n",
              "      <td>25/05/2021</td>\n",
              "      <td>Sim</td>\n",
              "      <td>Não</td>\n",
              "      <td>40 a 59 Anos</td>\n",
              "      <td>UTI</td>\n",
              "      <td>UBERLANDIA</td>\n",
              "      <td>Não</td>\n",
              "      <td>SANTA MONICA</td>\n",
              "      <td>Feminino</td>\n",
              "    </tr>\n",
              "    <tr>\n",
              "      <th>1</th>\n",
              "      <td>25/05/2021</td>\n",
              "      <td>Não</td>\n",
              "      <td>Não</td>\n",
              "      <td>13 a 39 Anos</td>\n",
              "      <td>ENFERMARIA</td>\n",
              "      <td>TUPACIGUARA</td>\n",
              "      <td>Não</td>\n",
              "      <td>NOVA ESPERANCA</td>\n",
              "      <td>Feminino</td>\n",
              "    </tr>\n",
              "    <tr>\n",
              "      <th>2</th>\n",
              "      <td>25/05/2021</td>\n",
              "      <td>NaN</td>\n",
              "      <td>NaN</td>\n",
              "      <td>60 a 69 Anos</td>\n",
              "      <td>ENFERMARIA</td>\n",
              "      <td>UBERLÂNDIA</td>\n",
              "      <td>NaN</td>\n",
              "      <td>SANTA MÔNICA</td>\n",
              "      <td>Feminino</td>\n",
              "    </tr>\n",
              "    <tr>\n",
              "      <th>3</th>\n",
              "      <td>25/05/2021</td>\n",
              "      <td>NaN</td>\n",
              "      <td>NaN</td>\n",
              "      <td>60 a 69 Anos</td>\n",
              "      <td>ENFERMARIA</td>\n",
              "      <td>UBERLÂNDIA</td>\n",
              "      <td>NaN</td>\n",
              "      <td>LOTEAMENTO INTEGRAÇÃO</td>\n",
              "      <td>Feminino</td>\n",
              "    </tr>\n",
              "    <tr>\n",
              "      <th>4</th>\n",
              "      <td>25/05/2021</td>\n",
              "      <td>Não</td>\n",
              "      <td>Não</td>\n",
              "      <td>40 a 59 Anos</td>\n",
              "      <td>ENFERMARIA</td>\n",
              "      <td>UBERLANDIA</td>\n",
              "      <td>Não</td>\n",
              "      <td>DONA ZULMIRA</td>\n",
              "      <td>Masculino</td>\n",
              "    </tr>\n",
              "  </tbody>\n",
              "</table>\n",
              "</div>"
            ],
            "text/plain": [
              "     BASEDATA CARDIOPATIA  ...             NOMEBAIRRO       SEXO\n",
              "0  25/05/2021         Sim  ...           SANTA MONICA   Feminino\n",
              "1  25/05/2021         Não  ...         NOVA ESPERANCA   Feminino\n",
              "2  25/05/2021         NaN  ...           SANTA MÔNICA   Feminino\n",
              "3  25/05/2021         NaN  ...  LOTEAMENTO INTEGRAÇÃO   Feminino\n",
              "4  25/05/2021         Não  ...           DONA ZULMIRA  Masculino\n",
              "\n",
              "[5 rows x 9 columns]"
            ]
          },
          "metadata": {
            "tags": []
          },
          "execution_count": 28
        }
      ]
    },
    {
      "cell_type": "code",
      "metadata": {
        "colab": {
          "base_uri": "https://localhost:8080/",
          "height": 204
        },
        "id": "uDATbZHC1xfc",
        "outputId": "302c26fe-679a-4eef-8559-4358348a8437"
      },
      "source": [
        "micro_dados.fillna(np.NaN, inplace = True)\n",
        "micro_dados.head()"
      ],
      "execution_count": null,
      "outputs": [
        {
          "output_type": "execute_result",
          "data": {
            "text/html": [
              "<div>\n",
              "<style scoped>\n",
              "    .dataframe tbody tr th:only-of-type {\n",
              "        vertical-align: middle;\n",
              "    }\n",
              "\n",
              "    .dataframe tbody tr th {\n",
              "        vertical-align: top;\n",
              "    }\n",
              "\n",
              "    .dataframe thead th {\n",
              "        text-align: right;\n",
              "    }\n",
              "</style>\n",
              "<table border=\"1\" class=\"dataframe\">\n",
              "  <thead>\n",
              "    <tr style=\"text-align: right;\">\n",
              "      <th></th>\n",
              "      <th>BASEDATA</th>\n",
              "      <th>CARDIOPATIA</th>\n",
              "      <th>DIABETES</th>\n",
              "      <th>FAIXAETARIA</th>\n",
              "      <th>INTERNACAO</th>\n",
              "      <th>MUNICIPIORESIDENCIA</th>\n",
              "      <th>NEUROLOGICA</th>\n",
              "      <th>NOMEBAIRRO</th>\n",
              "      <th>SEXO</th>\n",
              "    </tr>\n",
              "  </thead>\n",
              "  <tbody>\n",
              "    <tr>\n",
              "      <th>0</th>\n",
              "      <td>25/05/2021</td>\n",
              "      <td>Sim</td>\n",
              "      <td>Não</td>\n",
              "      <td>40 a 59 Anos</td>\n",
              "      <td>UTI</td>\n",
              "      <td>UBERLANDIA</td>\n",
              "      <td>Não</td>\n",
              "      <td>SANTA MONICA</td>\n",
              "      <td>Feminino</td>\n",
              "    </tr>\n",
              "    <tr>\n",
              "      <th>1</th>\n",
              "      <td>25/05/2021</td>\n",
              "      <td>Não</td>\n",
              "      <td>Não</td>\n",
              "      <td>13 a 39 Anos</td>\n",
              "      <td>ENFERMARIA</td>\n",
              "      <td>TUPACIGUARA</td>\n",
              "      <td>Não</td>\n",
              "      <td>NOVA ESPERANCA</td>\n",
              "      <td>Feminino</td>\n",
              "    </tr>\n",
              "    <tr>\n",
              "      <th>2</th>\n",
              "      <td>25/05/2021</td>\n",
              "      <td>NaN</td>\n",
              "      <td>NaN</td>\n",
              "      <td>60 a 69 Anos</td>\n",
              "      <td>ENFERMARIA</td>\n",
              "      <td>UBERLÂNDIA</td>\n",
              "      <td>NaN</td>\n",
              "      <td>SANTA MÔNICA</td>\n",
              "      <td>Feminino</td>\n",
              "    </tr>\n",
              "    <tr>\n",
              "      <th>3</th>\n",
              "      <td>25/05/2021</td>\n",
              "      <td>NaN</td>\n",
              "      <td>NaN</td>\n",
              "      <td>60 a 69 Anos</td>\n",
              "      <td>ENFERMARIA</td>\n",
              "      <td>UBERLÂNDIA</td>\n",
              "      <td>NaN</td>\n",
              "      <td>LOTEAMENTO INTEGRAÇÃO</td>\n",
              "      <td>Feminino</td>\n",
              "    </tr>\n",
              "    <tr>\n",
              "      <th>4</th>\n",
              "      <td>25/05/2021</td>\n",
              "      <td>Não</td>\n",
              "      <td>Não</td>\n",
              "      <td>40 a 59 Anos</td>\n",
              "      <td>ENFERMARIA</td>\n",
              "      <td>UBERLANDIA</td>\n",
              "      <td>Não</td>\n",
              "      <td>DONA ZULMIRA</td>\n",
              "      <td>Masculino</td>\n",
              "    </tr>\n",
              "  </tbody>\n",
              "</table>\n",
              "</div>"
            ],
            "text/plain": [
              "     BASEDATA CARDIOPATIA  ...             NOMEBAIRRO       SEXO\n",
              "0  25/05/2021         Sim  ...           SANTA MONICA   Feminino\n",
              "1  25/05/2021         Não  ...         NOVA ESPERANCA   Feminino\n",
              "2  25/05/2021         NaN  ...           SANTA MÔNICA   Feminino\n",
              "3  25/05/2021         NaN  ...  LOTEAMENTO INTEGRAÇÃO   Feminino\n",
              "4  25/05/2021         Não  ...           DONA ZULMIRA  Masculino\n",
              "\n",
              "[5 rows x 9 columns]"
            ]
          },
          "metadata": {
            "tags": []
          },
          "execution_count": 29
        }
      ]
    },
    {
      "cell_type": "code",
      "metadata": {
        "id": "D7ybq4mw17I1",
        "colab": {
          "base_uri": "https://localhost:8080/",
          "height": 204
        },
        "outputId": "6e79d7a0-fc3d-40ec-ce35-0373c9f7d219"
      },
      "source": [
        "micro_dados[\"CARDIOPATIA\"].replace(np.NaN, \"Não\", inplace = True)\n",
        "micro_dados[\"DIABETES\"].replace(np.NaN, \"Não\", inplace = True)\n",
        "micro_dados[\"INTERNACAO\"].replace(np.NaN, \"Enfermaria\", inplace = True)\n",
        "micro_dados[\"MUNICIPIORESIDENCIA\"].replace(np.NaN, \"Uberlândia\", inplace = True)\n",
        "micro_dados[\"NEUROLOGICA\"].replace(np.NaN, \"Não\", inplace = True)\n",
        "micro_dados[\"NOMEBAIRRO\"].replace(np.NaN, \"Não informado\", inplace = True)\n",
        "micro_dados.head()"
      ],
      "execution_count": null,
      "outputs": [
        {
          "output_type": "execute_result",
          "data": {
            "text/html": [
              "<div>\n",
              "<style scoped>\n",
              "    .dataframe tbody tr th:only-of-type {\n",
              "        vertical-align: middle;\n",
              "    }\n",
              "\n",
              "    .dataframe tbody tr th {\n",
              "        vertical-align: top;\n",
              "    }\n",
              "\n",
              "    .dataframe thead th {\n",
              "        text-align: right;\n",
              "    }\n",
              "</style>\n",
              "<table border=\"1\" class=\"dataframe\">\n",
              "  <thead>\n",
              "    <tr style=\"text-align: right;\">\n",
              "      <th></th>\n",
              "      <th>BASEDATA</th>\n",
              "      <th>CARDIOPATIA</th>\n",
              "      <th>DIABETES</th>\n",
              "      <th>FAIXAETARIA</th>\n",
              "      <th>INTERNACAO</th>\n",
              "      <th>MUNICIPIORESIDENCIA</th>\n",
              "      <th>NEUROLOGICA</th>\n",
              "      <th>NOMEBAIRRO</th>\n",
              "      <th>SEXO</th>\n",
              "    </tr>\n",
              "  </thead>\n",
              "  <tbody>\n",
              "    <tr>\n",
              "      <th>0</th>\n",
              "      <td>25/05/2021</td>\n",
              "      <td>Sim</td>\n",
              "      <td>Não</td>\n",
              "      <td>40 a 59 Anos</td>\n",
              "      <td>UTI</td>\n",
              "      <td>UBERLANDIA</td>\n",
              "      <td>Não</td>\n",
              "      <td>SANTA MONICA</td>\n",
              "      <td>Feminino</td>\n",
              "    </tr>\n",
              "    <tr>\n",
              "      <th>1</th>\n",
              "      <td>25/05/2021</td>\n",
              "      <td>Não</td>\n",
              "      <td>Não</td>\n",
              "      <td>13 a 39 Anos</td>\n",
              "      <td>ENFERMARIA</td>\n",
              "      <td>TUPACIGUARA</td>\n",
              "      <td>Não</td>\n",
              "      <td>NOVA ESPERANCA</td>\n",
              "      <td>Feminino</td>\n",
              "    </tr>\n",
              "    <tr>\n",
              "      <th>2</th>\n",
              "      <td>25/05/2021</td>\n",
              "      <td>Não</td>\n",
              "      <td>Não</td>\n",
              "      <td>60 a 69 Anos</td>\n",
              "      <td>ENFERMARIA</td>\n",
              "      <td>UBERLÂNDIA</td>\n",
              "      <td>Não</td>\n",
              "      <td>SANTA MÔNICA</td>\n",
              "      <td>Feminino</td>\n",
              "    </tr>\n",
              "    <tr>\n",
              "      <th>3</th>\n",
              "      <td>25/05/2021</td>\n",
              "      <td>Não</td>\n",
              "      <td>Não</td>\n",
              "      <td>60 a 69 Anos</td>\n",
              "      <td>ENFERMARIA</td>\n",
              "      <td>UBERLÂNDIA</td>\n",
              "      <td>Não</td>\n",
              "      <td>LOTEAMENTO INTEGRAÇÃO</td>\n",
              "      <td>Feminino</td>\n",
              "    </tr>\n",
              "    <tr>\n",
              "      <th>4</th>\n",
              "      <td>25/05/2021</td>\n",
              "      <td>Não</td>\n",
              "      <td>Não</td>\n",
              "      <td>40 a 59 Anos</td>\n",
              "      <td>ENFERMARIA</td>\n",
              "      <td>UBERLANDIA</td>\n",
              "      <td>Não</td>\n",
              "      <td>DONA ZULMIRA</td>\n",
              "      <td>Masculino</td>\n",
              "    </tr>\n",
              "  </tbody>\n",
              "</table>\n",
              "</div>"
            ],
            "text/plain": [
              "     BASEDATA CARDIOPATIA  ...             NOMEBAIRRO       SEXO\n",
              "0  25/05/2021         Sim  ...           SANTA MONICA   Feminino\n",
              "1  25/05/2021         Não  ...         NOVA ESPERANCA   Feminino\n",
              "2  25/05/2021         Não  ...           SANTA MÔNICA   Feminino\n",
              "3  25/05/2021         Não  ...  LOTEAMENTO INTEGRAÇÃO   Feminino\n",
              "4  25/05/2021         Não  ...           DONA ZULMIRA  Masculino\n",
              "\n",
              "[5 rows x 9 columns]"
            ]
          },
          "metadata": {
            "tags": []
          },
          "execution_count": 30
        }
      ]
    },
    {
      "cell_type": "code",
      "metadata": {
        "colab": {
          "base_uri": "https://localhost:8080/"
        },
        "id": "s5JOabd0Ai0F",
        "outputId": "663a0b71-2195-4478-ef7e-014ecd43d600"
      },
      "source": [
        "#dados[\"NOMEBAIRRO\"].value_counts()\n",
        "micro_dados[\"NOMEBAIRRO\"].isnull().value_counts()"
      ],
      "execution_count": null,
      "outputs": [
        {
          "output_type": "execute_result",
          "data": {
            "text/plain": [
              "False    128233\n",
              "Name: NOMEBAIRRO, dtype: int64"
            ]
          },
          "metadata": {
            "tags": []
          },
          "execution_count": 31
        }
      ]
    },
    {
      "cell_type": "code",
      "metadata": {
        "colab": {
          "base_uri": "https://localhost:8080/"
        },
        "id": "TYj4tODvBbj6",
        "outputId": "ce8348fa-eb4f-411f-e7e9-fd3aa867034a"
      },
      "source": [
        "micro_dados[\"SEXO\"].isnull().value_counts()"
      ],
      "execution_count": null,
      "outputs": [
        {
          "output_type": "execute_result",
          "data": {
            "text/plain": [
              "False    128233\n",
              "Name: SEXO, dtype: int64"
            ]
          },
          "metadata": {
            "tags": []
          },
          "execution_count": 32
        }
      ]
    },
    {
      "cell_type": "code",
      "metadata": {
        "colab": {
          "base_uri": "https://localhost:8080/"
        },
        "id": "Xq78g6wHCG7C",
        "outputId": "7936077e-637d-4f0e-c9b6-232a227417a2"
      },
      "source": [
        "micro_dados[\"NOMEBAIRRO\"].value_counts()"
      ],
      "execution_count": null,
      "outputs": [
        {
          "output_type": "execute_result",
          "data": {
            "text/plain": [
              "Não informado               11183\n",
              "SANTA MONICA                 5459\n",
              "CENTRO                       4609\n",
              "SAO JORGE                    3653\n",
              "MORUMBI                      3597\n",
              "                            ...  \n",
              "SAO DOMINGOS                    2\n",
              "OSWALDO REZENDE                 2\n",
              "PARQUE ARACAGY                  2\n",
              "INGLESES DO RIO VERMELHO        2\n",
              "GOIÁS                           1\n",
              "Name: NOMEBAIRRO, Length: 534, dtype: int64"
            ]
          },
          "metadata": {
            "tags": []
          },
          "execution_count": 33
        }
      ]
    },
    {
      "cell_type": "code",
      "metadata": {
        "colab": {
          "base_uri": "https://localhost:8080/"
        },
        "id": "LomWWkkDCbPA",
        "outputId": "155d2d80-2804-4ddc-fd71-ab7c6829c2c7"
      },
      "source": [
        "micro_dados.columns"
      ],
      "execution_count": null,
      "outputs": [
        {
          "output_type": "execute_result",
          "data": {
            "text/plain": [
              "Index(['BASEDATA', 'CARDIOPATIA', 'DIABETES', 'FAIXAETARIA', 'INTERNACAO',\n",
              "       'MUNICIPIORESIDENCIA', 'NEUROLOGICA', 'NOMEBAIRRO', 'SEXO'],\n",
              "      dtype='object')"
            ]
          },
          "metadata": {
            "tags": []
          },
          "execution_count": 34
        }
      ]
    },
    {
      "cell_type": "code",
      "metadata": {
        "id": "ZVG_z6E4EyYe"
      },
      "source": [
        "micro_dados[\"NOMEBAIRRO\"]          = micro_dados[\"NOMEBAIRRO\"].str.title()\n",
        "micro_dados[\"MUNICIPIORESIDENCIA\"] = micro_dados[\"MUNICIPIORESIDENCIA\"].str.title()\n",
        "micro_dados[\"MUNICIPIORESIDENCIA\"].replace(\"Uberlandia\", \"Uberlândia\", inplace = True)\n",
        "micro_dados[\"INTERNACAO\"].replace(\"ENFERMARIA\", \"Enfermaria\", inplace = True)"
      ],
      "execution_count": null,
      "outputs": []
    },
    {
      "cell_type": "code",
      "metadata": {
        "colab": {
          "base_uri": "https://localhost:8080/"
        },
        "id": "xlTkkQtIE-9u",
        "outputId": "c82c0cf5-9262-45ce-c88f-1aa8b9b00897"
      },
      "source": [
        "teste = micro_dados[\"MUNICIPIORESIDENCIA\"].value_counts()\n",
        "teste.to_csv(\"data.csv\")\n",
        "micro_dados[\"MUNICIPIORESIDENCIA\"].value_counts()"
      ],
      "execution_count": null,
      "outputs": [
        {
          "output_type": "execute_result",
          "data": {
            "text/plain": [
              "Uberlândia               115143\n",
              "Araguari                   2567\n",
              "Tupaciguara                1464\n",
              "Prata                      1130\n",
              "Ituiutaba                   851\n",
              "                          ...  \n",
              "Toledo                        2\n",
              "Ferraz De Vasconcelos         2\n",
              "São José Dos Campos           2\n",
              "Presidente Venceslau          2\n",
              "Iraí De Minas                 1\n",
              "Name: MUNICIPIORESIDENCIA, Length: 141, dtype: int64"
            ]
          },
          "metadata": {
            "tags": []
          },
          "execution_count": 36
        }
      ]
    },
    {
      "cell_type": "code",
      "metadata": {
        "id": "NgAWBMVjFv05"
      },
      "source": [],
      "execution_count": null,
      "outputs": []
    },
    {
      "cell_type": "code",
      "metadata": {
        "colab": {
          "base_uri": "https://localhost:8080/",
          "height": 592
        },
        "id": "xQSbQ2rzKZEO",
        "outputId": "b0abd5e4-4253-4f4b-e25b-de84175c82dc"
      },
      "source": [
        "teste  = micro_dados[\"MUNICIPIORESIDENCIA\"].value_counts().index.values[1:10]\n",
        "teste2 = micro_dados[\"MUNICIPIORESIDENCIA\"].value_counts().values[1:10]\n",
        "\n",
        "names  = micro_dados[\"MUNICIPIORESIDENCIA\"].value_counts().index.values[1:10]\n",
        "values = micro_dados[\"MUNICIPIORESIDENCIA\"].value_counts().values[1:10]\n",
        "\n",
        "plt.figure(figsize=(60, 10))\n",
        "\n",
        "plt.subplot(131)\n",
        "plt.bar(names, values, color=['tab:red', 'gray', 'gray', 'gray', 'gray', 'gray', 'gray', 'gray', 'gray', 'gray'])\n",
        "plt.show()"
      ],
      "execution_count": null,
      "outputs": [
        {
          "output_type": "display_data",
          "data": {
            "image/png": "[encoded data removed]",
            "text/plain": [
              "<Figure size 4320x720 with 1 Axes>"
            ]
          },
          "metadata": {
            "tags": [],
            "needs_background": "light"
          }
        }
      ]
    },
    {
      "cell_type": "code",
      "metadata": {
        "colab": {
          "base_uri": "https://localhost:8080/",
          "height": 592
        },
        "id": "g8t9Oj-rKftB",
        "outputId": "a80b096b-332e-45f7-ecd4-3ecf566d4e54"
      },
      "source": [
        "teste  = micro_dados[\"SEXO\"].value_counts().index.values\n",
        "teste2 = micro_dados[\"SEXO\"].value_counts().values\n",
        "\n",
        "names  = micro_dados[\"SEXO\"].value_counts().index.values[:10]\n",
        "values = micro_dados[\"SEXO\"].value_counts().values[:10]\n",
        "\n",
        "plt.figure(figsize=(15, 10))\n",
        "\n",
        "plt.subplot(131)\n",
        "plt.bar(names, values)\n",
        "plt.show()"
      ],
      "execution_count": null,
      "outputs": [
        {
          "output_type": "display_data",
          "data": {
            "image/png": "[encoded data removed]",
            "text/plain": [
              "<Figure size 1080x720 with 1 Axes>"
            ]
          },
          "metadata": {
            "tags": [],
            "needs_background": "light"
          }
        }
      ]
    },
    {
      "cell_type": "code",
      "metadata": {
        "id": "XIG7nC1ENL0E",
        "colab": {
          "base_uri": "https://localhost:8080/",
          "height": 592
        },
        "outputId": "ba973133-1d26-4c41-c832-c8ba9525dbba"
      },
      "source": [
        "teste  = micro_dados[\"INTERNACAO\"].value_counts().index.values\n",
        "teste2 = micro_dados[\"INTERNACAO\"].value_counts().values\n",
        "\n",
        "names  = micro_dados[\"INTERNACAO\"].value_counts().index.values[:10]\n",
        "values = micro_dados[\"INTERNACAO\"].value_counts().values[:10]\n",
        "\n",
        "plt.figure(figsize=(15, 10))\n",
        "\n",
        "plt.subplot(131)\n",
        "plt.bar(names, values)\n",
        "plt.show()"
      ],
      "execution_count": null,
      "outputs": [
        {
          "output_type": "display_data",
          "data": {
            "image/png": "[encoded data removed]",
            "text/plain": [
              "<Figure size 1080x720 with 1 Axes>"
            ]
          },
          "metadata": {
            "tags": [],
            "needs_background": "light"
          }
        }
      ]
    },
    {
      "cell_type": "code",
      "metadata": {
        "colab": {
          "base_uri": "https://localhost:8080/",
          "height": 437
        },
        "id": "5phbJ7CvEVvK",
        "outputId": "478cc2a8-312a-488e-b7a3-b595ba24c120"
      },
      "source": [
        "teste  = micro_dados[\"NOMEBAIRRO\"].value_counts().index.values\n",
        "teste2 = micro_dados[\"NOMEBAIRRO\"].value_counts().values\n",
        "\n",
        "names  = micro_dados[\"NOMEBAIRRO\"].value_counts().index.values[:20]\n",
        "values = micro_dados[\"NOMEBAIRRO\"].value_counts().values[:20]\n",
        "\n",
        "plt.figure(figsize=(120, 10))\n",
        "\n",
        "plt.subplot(131)\n",
        "plt.bar(names, values)\n",
        "plt.show()"
      ],
      "execution_count": null,
      "outputs": [
        {
          "output_type": "display_data",
          "data": {
            "image/png": "[encoded data removed]",
            "text/plain": [
              "<Figure size 8640x720 with 1 Axes>"
            ]
          },
          "metadata": {
            "tags": [],
            "needs_background": "light"
          }
        }
      ]
    },
    {
      "cell_type": "code",
      "metadata": {
        "id": "nCkF05XPGBLj"
      },
      "source": [
        "#>>>>>>>>>>>>>>>>>>>>>>>DADOS BRUTOS<<<<<<<<<<<<<<<<<<<<<"
      ],
      "execution_count": null,
      "outputs": []
    },
    {
      "cell_type": "markdown",
      "metadata": {
        "id": "mVrL3Xj1GgVx"
      },
      "source": [
        "# DADOS BRUTOS"
      ]
    },
    {
      "cell_type": "code",
      "metadata": {
        "colab": {
          "resources": {
            "http://localhost:8080/nbextensions/google.colab/files.js": {
              "data": "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",
              "ok": true,
              "headers": [
                [
                  "content-type",
                  "application/javascript"
                ]
              ],
              "status": 200,
              "status_text": ""
            }
          },
          "base_uri": "https://localhost:8080/",
          "height": 72
        },
        "id": "2pN8HUIdGkQ4",
        "outputId": "d24861c7-0e32-46e7-f3a4-7ed8a3113a77"
      },
      "source": [
        "from google.colab import files\n",
        "uploaded = files.upload()"
      ],
      "execution_count": null,
      "outputs": [
        {
          "output_type": "display_data",
          "data": {
            "text/html": [
              "\n",
              "     <input type=\"file\" id=\"files-1dd99d86-4c58-48c2-b2d3-1018c04d7308\" name=\"files[]\" multiple disabled\n",
              "        style=\"border:none\" />\n",
              "     <output id=\"result-1dd99d86-4c58-48c2-b2d3-1018c04d7308\">\n",
              "      Upload widget is only available when the cell has been executed in the\n",
              "      current browser session. Please rerun this cell to enable.\n",
              "      </output>\n",
              "      <script src=\"/nbextensions/google.colab/files.js\"></script> "
            ],
            "text/plain": [
              "<IPython.core.display.HTML object>"
            ]
          },
          "metadata": {
            "tags": []
          }
        },
        {
          "output_type": "stream",
          "text": [
            "Saving BoletimInformativoMunicipal.csv to BoletimInformativoMunicipal.csv\n"
          ],
          "name": "stdout"
        }
      ]
    },
    {
      "cell_type": "code",
      "metadata": {
        "colab": {
          "base_uri": "https://localhost:8080/",
          "height": 204
        },
        "id": "7A0bVvJHGqvD",
        "outputId": "c7b8a02d-f674-4d37-b32e-7a80780ff5f3"
      },
      "source": [
        "dados_brutos = pd.read_csv(\"BoletimInformativoMunicipal.csv\", sep = \";\")\n",
        "dados_brutos.head()"
      ],
      "execution_count": null,
      "outputs": [
        {
          "output_type": "execute_result",
          "data": {
            "text/html": [
              "<div>\n",
              "<style scoped>\n",
              "    .dataframe tbody tr th:only-of-type {\n",
              "        vertical-align: middle;\n",
              "    }\n",
              "\n",
              "    .dataframe tbody tr th {\n",
              "        vertical-align: top;\n",
              "    }\n",
              "\n",
              "    .dataframe thead th {\n",
              "        text-align: right;\n",
              "    }\n",
              "</style>\n",
              "<table border=\"1\" class=\"dataframe\">\n",
              "  <thead>\n",
              "    <tr style=\"text-align: right;\">\n",
              "      <th></th>\n",
              "      <th>BASEDATA</th>\n",
              "      <th>CONFIRMADOS</th>\n",
              "      <th>NEGATIVOS</th>\n",
              "      <th>OBITOCONFIRMADO</th>\n",
              "      <th>OBITONEGATIVO</th>\n",
              "      <th>OBITOSUSPEITO</th>\n",
              "      <th>OCUPACAOMUNICIPAL</th>\n",
              "      <th>PACIENTESINTERNADOS</th>\n",
              "      <th>SUSPEITOS</th>\n",
              "    </tr>\n",
              "  </thead>\n",
              "  <tbody>\n",
              "    <tr>\n",
              "      <th>0</th>\n",
              "      <td>25/05/2021</td>\n",
              "      <td>93509</td>\n",
              "      <td>278603</td>\n",
              "      <td>2333</td>\n",
              "      <td>1002</td>\n",
              "      <td>1002</td>\n",
              "      <td>90.0%</td>\n",
              "      <td>423</td>\n",
              "      <td>41</td>\n",
              "    </tr>\n",
              "    <tr>\n",
              "      <th>1</th>\n",
              "      <td>24/05/2021</td>\n",
              "      <td>93264</td>\n",
              "      <td>277848</td>\n",
              "      <td>2326</td>\n",
              "      <td>1000</td>\n",
              "      <td>1000</td>\n",
              "      <td>96.0%</td>\n",
              "      <td>437</td>\n",
              "      <td>40</td>\n",
              "    </tr>\n",
              "    <tr>\n",
              "      <th>2</th>\n",
              "      <td>23/05/2021</td>\n",
              "      <td>93075</td>\n",
              "      <td>277392</td>\n",
              "      <td>2314</td>\n",
              "      <td>995</td>\n",
              "      <td>995</td>\n",
              "      <td>91.0%</td>\n",
              "      <td>442</td>\n",
              "      <td>63</td>\n",
              "    </tr>\n",
              "    <tr>\n",
              "      <th>3</th>\n",
              "      <td>22/05/2021</td>\n",
              "      <td>92891</td>\n",
              "      <td>276697</td>\n",
              "      <td>2304</td>\n",
              "      <td>993</td>\n",
              "      <td>993</td>\n",
              "      <td>91.0%</td>\n",
              "      <td>440</td>\n",
              "      <td>49</td>\n",
              "    </tr>\n",
              "    <tr>\n",
              "      <th>4</th>\n",
              "      <td>21/05/2021</td>\n",
              "      <td>92619</td>\n",
              "      <td>275908</td>\n",
              "      <td>2297</td>\n",
              "      <td>993</td>\n",
              "      <td>993</td>\n",
              "      <td>93.0%</td>\n",
              "      <td>439</td>\n",
              "      <td>55</td>\n",
              "    </tr>\n",
              "  </tbody>\n",
              "</table>\n",
              "</div>"
            ],
            "text/plain": [
              "     BASEDATA  CONFIRMADOS  ...  PACIENTESINTERNADOS  SUSPEITOS\n",
              "0  25/05/2021        93509  ...                  423         41\n",
              "1  24/05/2021        93264  ...                  437         40\n",
              "2  23/05/2021        93075  ...                  442         63\n",
              "3  22/05/2021        92891  ...                  440         49\n",
              "4  21/05/2021        92619  ...                  439         55\n",
              "\n",
              "[5 rows x 9 columns]"
            ]
          },
          "metadata": {
            "tags": []
          },
          "execution_count": 43
        }
      ]
    },
    {
      "cell_type": "code",
      "metadata": {
        "colab": {
          "base_uri": "https://localhost:8080/"
        },
        "id": "ktgXzsicaTvp",
        "outputId": "f9b86bb0-a26f-41a4-8716-78be00df043c"
      },
      "source": [
        "dados_brutos.fillna(np.NaN, inplace = True)\n",
        "dados_brutos.replace(np.NaN, \"0%\")\n",
        "dados_brutos.replace(\"NaN\", \"0%\")\n",
        "#dados_brutos[\"OCUPACAOMUNICIPAL\"].isnull().value_counts()\n",
        "teste = dados_brutos[\"OCUPACAOMUNICIPAL\"][430]\n",
        "type(teste)\n"
      ],
      "execution_count": null,
      "outputs": [
        {
          "output_type": "execute_result",
          "data": {
            "text/plain": [
              "float"
            ]
          },
          "metadata": {
            "tags": []
          },
          "execution_count": 44
        }
      ]
    },
    {
      "cell_type": "code",
      "metadata": {
        "colab": {
          "base_uri": "https://localhost:8080/"
        },
        "id": "LwnczLNnIpXv",
        "outputId": "b15044de-861d-4d19-ebf1-853d54e3dd1d"
      },
      "source": [
        "dados_brutos.dtypes"
      ],
      "execution_count": null,
      "outputs": [
        {
          "output_type": "execute_result",
          "data": {
            "text/plain": [
              "BASEDATA               object\n",
              "CONFIRMADOS             int64\n",
              "NEGATIVOS               int64\n",
              "OBITOCONFIRMADO         int64\n",
              "OBITONEGATIVO           int64\n",
              "OBITOSUSPEITO           int64\n",
              "OCUPACAOMUNICIPAL      object\n",
              "PACIENTESINTERNADOS     int64\n",
              "SUSPEITOS               int64\n",
              "dtype: object"
            ]
          },
          "metadata": {
            "tags": []
          },
          "execution_count": 45
        }
      ]
    },
    {
      "cell_type": "code",
      "metadata": {
        "id": "X_qZqAC0HT7T",
        "colab": {
          "base_uri": "https://localhost:8080/"
        },
        "outputId": "c97db119-2620-46a8-a7f6-dd5435c0d4ec"
      },
      "source": [
        "dados_brutos.dtypes"
      ],
      "execution_count": null,
      "outputs": [
        {
          "output_type": "execute_result",
          "data": {
            "text/plain": [
              "BASEDATA               object\n",
              "CONFIRMADOS             int64\n",
              "NEGATIVOS               int64\n",
              "OBITOCONFIRMADO         int64\n",
              "OBITONEGATIVO           int64\n",
              "OBITOSUSPEITO           int64\n",
              "OCUPACAOMUNICIPAL      object\n",
              "PACIENTESINTERNADOS     int64\n",
              "SUSPEITOS               int64\n",
              "dtype: object"
            ]
          },
          "metadata": {
            "tags": []
          },
          "execution_count": 46
        }
      ]
    },
    {
      "cell_type": "code",
      "metadata": {
        "colab": {
          "base_uri": "https://localhost:8080/",
          "height": 306
        },
        "id": "4muW4JIVcwOE",
        "outputId": "a91326c1-bff8-47a9-c4a6-7c871f29eec2"
      },
      "source": [
        "for i in range(dados_brutos[\"OCUPACAOMUNICIPAL\"].size):\n",
        "  try:\n",
        "    dados_brutos['OCUPACAOMUNICIPAL'][i] = float(dados_brutos['OCUPACAOMUNICIPAL'][i][:-1])\n",
        "  except:\n",
        "    print(f\"Erro aconteceu na linha {i}\")\n",
        "    break\n",
        "dados_brutos.head()\n"
      ],
      "execution_count": null,
      "outputs": [
        {
          "output_type": "stream",
          "text": [
            "Erro aconteceu na linha 402\n"
          ],
          "name": "stdout"
        },
        {
          "output_type": "stream",
          "text": [
            "/usr/local/lib/python3.7/dist-packages/ipykernel_launcher.py:3: SettingWithCopyWarning: \n",
            "A value is trying to be set on a copy of a slice from a DataFrame\n",
            "\n",
            "See the caveats in the documentation: https://pandas.pydata.org/pandas-docs/stable/user_guide/indexing.html#returning-a-view-versus-a-copy\n",
            "  This is separate from the ipykernel package so we can avoid doing imports until\n"
          ],
          "name": "stderr"
        },
        {
          "output_type": "execute_result",
          "data": {
            "text/html": [
              "<div>\n",
              "<style scoped>\n",
              "    .dataframe tbody tr th:only-of-type {\n",
              "        vertical-align: middle;\n",
              "    }\n",
              "\n",
              "    .dataframe tbody tr th {\n",
              "        vertical-align: top;\n",
              "    }\n",
              "\n",
              "    .dataframe thead th {\n",
              "        text-align: right;\n",
              "    }\n",
              "</style>\n",
              "<table border=\"1\" class=\"dataframe\">\n",
              "  <thead>\n",
              "    <tr style=\"text-align: right;\">\n",
              "      <th></th>\n",
              "      <th>BASEDATA</th>\n",
              "      <th>CONFIRMADOS</th>\n",
              "      <th>NEGATIVOS</th>\n",
              "      <th>OBITOCONFIRMADO</th>\n",
              "      <th>OBITONEGATIVO</th>\n",
              "      <th>OBITOSUSPEITO</th>\n",
              "      <th>OCUPACAOMUNICIPAL</th>\n",
              "      <th>PACIENTESINTERNADOS</th>\n",
              "      <th>SUSPEITOS</th>\n",
              "    </tr>\n",
              "  </thead>\n",
              "  <tbody>\n",
              "    <tr>\n",
              "      <th>0</th>\n",
              "      <td>25/05/2021</td>\n",
              "      <td>93509</td>\n",
              "      <td>278603</td>\n",
              "      <td>2333</td>\n",
              "      <td>1002</td>\n",
              "      <td>1002</td>\n",
              "      <td>90</td>\n",
              "      <td>423</td>\n",
              "      <td>41</td>\n",
              "    </tr>\n",
              "    <tr>\n",
              "      <th>1</th>\n",
              "      <td>24/05/2021</td>\n",
              "      <td>93264</td>\n",
              "      <td>277848</td>\n",
              "      <td>2326</td>\n",
              "      <td>1000</td>\n",
              "      <td>1000</td>\n",
              "      <td>96</td>\n",
              "      <td>437</td>\n",
              "      <td>40</td>\n",
              "    </tr>\n",
              "    <tr>\n",
              "      <th>2</th>\n",
              "      <td>23/05/2021</td>\n",
              "      <td>93075</td>\n",
              "      <td>277392</td>\n",
              "      <td>2314</td>\n",
              "      <td>995</td>\n",
              "      <td>995</td>\n",
              "      <td>91</td>\n",
              "      <td>442</td>\n",
              "      <td>63</td>\n",
              "    </tr>\n",
              "    <tr>\n",
              "      <th>3</th>\n",
              "      <td>22/05/2021</td>\n",
              "      <td>92891</td>\n",
              "      <td>276697</td>\n",
              "      <td>2304</td>\n",
              "      <td>993</td>\n",
              "      <td>993</td>\n",
              "      <td>91</td>\n",
              "      <td>440</td>\n",
              "      <td>49</td>\n",
              "    </tr>\n",
              "    <tr>\n",
              "      <th>4</th>\n",
              "      <td>21/05/2021</td>\n",
              "      <td>92619</td>\n",
              "      <td>275908</td>\n",
              "      <td>2297</td>\n",
              "      <td>993</td>\n",
              "      <td>993</td>\n",
              "      <td>93</td>\n",
              "      <td>439</td>\n",
              "      <td>55</td>\n",
              "    </tr>\n",
              "  </tbody>\n",
              "</table>\n",
              "</div>"
            ],
            "text/plain": [
              "     BASEDATA  CONFIRMADOS  ...  PACIENTESINTERNADOS  SUSPEITOS\n",
              "0  25/05/2021        93509  ...                  423         41\n",
              "1  24/05/2021        93264  ...                  437         40\n",
              "2  23/05/2021        93075  ...                  442         63\n",
              "3  22/05/2021        92891  ...                  440         49\n",
              "4  21/05/2021        92619  ...                  439         55\n",
              "\n",
              "[5 rows x 9 columns]"
            ]
          },
          "metadata": {
            "tags": []
          },
          "execution_count": 47
        }
      ]
    },
    {
      "cell_type": "code",
      "metadata": {
        "colab": {
          "base_uri": "https://localhost:8080/",
          "height": 419
        },
        "id": "QHCFG8Imc91P",
        "outputId": "bcb8c41d-80fe-41e9-860c-d24c1bbc708f"
      },
      "source": [
        "dados_brutos"
      ],
      "execution_count": null,
      "outputs": [
        {
          "output_type": "execute_result",
          "data": {
            "text/html": [
              "<div>\n",
              "<style scoped>\n",
              "    .dataframe tbody tr th:only-of-type {\n",
              "        vertical-align: middle;\n",
              "    }\n",
              "\n",
              "    .dataframe tbody tr th {\n",
              "        vertical-align: top;\n",
              "    }\n",
              "\n",
              "    .dataframe thead th {\n",
              "        text-align: right;\n",
              "    }\n",
              "</style>\n",
              "<table border=\"1\" class=\"dataframe\">\n",
              "  <thead>\n",
              "    <tr style=\"text-align: right;\">\n",
              "      <th></th>\n",
              "      <th>BASEDATA</th>\n",
              "      <th>CONFIRMADOS</th>\n",
              "      <th>NEGATIVOS</th>\n",
              "      <th>OBITOCONFIRMADO</th>\n",
              "      <th>OBITONEGATIVO</th>\n",
              "      <th>OBITOSUSPEITO</th>\n",
              "      <th>OCUPACAOMUNICIPAL</th>\n",
              "      <th>PACIENTESINTERNADOS</th>\n",
              "      <th>SUSPEITOS</th>\n",
              "    </tr>\n",
              "  </thead>\n",
              "  <tbody>\n",
              "    <tr>\n",
              "      <th>0</th>\n",
              "      <td>25/05/2021</td>\n",
              "      <td>93509</td>\n",
              "      <td>278603</td>\n",
              "      <td>2333</td>\n",
              "      <td>1002</td>\n",
              "      <td>1002</td>\n",
              "      <td>90</td>\n",
              "      <td>423</td>\n",
              "      <td>41</td>\n",
              "    </tr>\n",
              "    <tr>\n",
              "      <th>1</th>\n",
              "      <td>24/05/2021</td>\n",
              "      <td>93264</td>\n",
              "      <td>277848</td>\n",
              "      <td>2326</td>\n",
              "      <td>1000</td>\n",
              "      <td>1000</td>\n",
              "      <td>96</td>\n",
              "      <td>437</td>\n",
              "      <td>40</td>\n",
              "    </tr>\n",
              "    <tr>\n",
              "      <th>2</th>\n",
              "      <td>23/05/2021</td>\n",
              "      <td>93075</td>\n",
              "      <td>277392</td>\n",
              "      <td>2314</td>\n",
              "      <td>995</td>\n",
              "      <td>995</td>\n",
              "      <td>91</td>\n",
              "      <td>442</td>\n",
              "      <td>63</td>\n",
              "    </tr>\n",
              "    <tr>\n",
              "      <th>3</th>\n",
              "      <td>22/05/2021</td>\n",
              "      <td>92891</td>\n",
              "      <td>276697</td>\n",
              "      <td>2304</td>\n",
              "      <td>993</td>\n",
              "      <td>993</td>\n",
              "      <td>91</td>\n",
              "      <td>440</td>\n",
              "      <td>49</td>\n",
              "    </tr>\n",
              "    <tr>\n",
              "      <th>4</th>\n",
              "      <td>21/05/2021</td>\n",
              "      <td>92619</td>\n",
              "      <td>275908</td>\n",
              "      <td>2297</td>\n",
              "      <td>993</td>\n",
              "      <td>993</td>\n",
              "      <td>93</td>\n",
              "      <td>439</td>\n",
              "      <td>55</td>\n",
              "    </tr>\n",
              "    <tr>\n",
              "      <th>...</th>\n",
              "      <td>...</td>\n",
              "      <td>...</td>\n",
              "      <td>...</td>\n",
              "      <td>...</td>\n",
              "      <td>...</td>\n",
              "      <td>...</td>\n",
              "      <td>...</td>\n",
              "      <td>...</td>\n",
              "      <td>...</td>\n",
              "    </tr>\n",
              "    <tr>\n",
              "      <th>426</th>\n",
              "      <td>25/03/2020</td>\n",
              "      <td>8</td>\n",
              "      <td>67</td>\n",
              "      <td>0</td>\n",
              "      <td>0</td>\n",
              "      <td>0</td>\n",
              "      <td>NaN</td>\n",
              "      <td>39</td>\n",
              "      <td>399</td>\n",
              "    </tr>\n",
              "    <tr>\n",
              "      <th>427</th>\n",
              "      <td>24/03/2020</td>\n",
              "      <td>8</td>\n",
              "      <td>67</td>\n",
              "      <td>0</td>\n",
              "      <td>0</td>\n",
              "      <td>0</td>\n",
              "      <td>NaN</td>\n",
              "      <td>36</td>\n",
              "      <td>306</td>\n",
              "    </tr>\n",
              "    <tr>\n",
              "      <th>428</th>\n",
              "      <td>23/03/2020</td>\n",
              "      <td>7</td>\n",
              "      <td>41</td>\n",
              "      <td>0</td>\n",
              "      <td>0</td>\n",
              "      <td>0</td>\n",
              "      <td>NaN</td>\n",
              "      <td>23</td>\n",
              "      <td>225</td>\n",
              "    </tr>\n",
              "    <tr>\n",
              "      <th>429</th>\n",
              "      <td>22/03/2020</td>\n",
              "      <td>3</td>\n",
              "      <td>27</td>\n",
              "      <td>0</td>\n",
              "      <td>0</td>\n",
              "      <td>0</td>\n",
              "      <td>NaN</td>\n",
              "      <td>14</td>\n",
              "      <td>193</td>\n",
              "    </tr>\n",
              "    <tr>\n",
              "      <th>430</th>\n",
              "      <td>21/03/2020</td>\n",
              "      <td>3</td>\n",
              "      <td>25</td>\n",
              "      <td>0</td>\n",
              "      <td>0</td>\n",
              "      <td>0</td>\n",
              "      <td>NaN</td>\n",
              "      <td>14</td>\n",
              "      <td>188</td>\n",
              "    </tr>\n",
              "  </tbody>\n",
              "</table>\n",
              "<p>431 rows × 9 columns</p>\n",
              "</div>"
            ],
            "text/plain": [
              "       BASEDATA  CONFIRMADOS  ...  PACIENTESINTERNADOS  SUSPEITOS\n",
              "0    25/05/2021        93509  ...                  423         41\n",
              "1    24/05/2021        93264  ...                  437         40\n",
              "2    23/05/2021        93075  ...                  442         63\n",
              "3    22/05/2021        92891  ...                  440         49\n",
              "4    21/05/2021        92619  ...                  439         55\n",
              "..          ...          ...  ...                  ...        ...\n",
              "426  25/03/2020            8  ...                   39        399\n",
              "427  24/03/2020            8  ...                   36        306\n",
              "428  23/03/2020            7  ...                   23        225\n",
              "429  22/03/2020            3  ...                   14        193\n",
              "430  21/03/2020            3  ...                   14        188\n",
              "\n",
              "[431 rows x 9 columns]"
            ]
          },
          "metadata": {
            "tags": []
          },
          "execution_count": 48
        }
      ]
    },
    {
      "cell_type": "code",
      "metadata": {
        "colab": {
          "base_uri": "https://localhost:8080/"
        },
        "id": "smrBshtvfgEP",
        "outputId": "bf8f190f-e1e8-49d8-8bf0-2bfe8dfd9a80"
      },
      "source": [
        "dados_brutos['OCUPACAOMUNICIPAL'][:402].mean()"
      ],
      "execution_count": null,
      "outputs": [
        {
          "output_type": "execute_result",
          "data": {
            "text/plain": [
              "88.67412935323384"
            ]
          },
          "metadata": {
            "tags": []
          },
          "execution_count": 49
        }
      ]
    },
    {
      "cell_type": "code",
      "metadata": {
        "colab": {
          "base_uri": "https://localhost:8080/",
          "height": 204
        },
        "id": "9m1jj5L8hEEP",
        "outputId": "321dc0f8-32a6-4cca-bb03-6c573ea81aea"
      },
      "source": [
        "dados_brutos['OCUPACAOMUNICIPAL'].fillna(dados_brutos['OCUPACAOMUNICIPAL'][:402].mean(), inplace = True)\n",
        "dados_brutos.head()"
      ],
      "execution_count": null,
      "outputs": [
        {
          "output_type": "execute_result",
          "data": {
            "text/html": [
              "<div>\n",
              "<style scoped>\n",
              "    .dataframe tbody tr th:only-of-type {\n",
              "        vertical-align: middle;\n",
              "    }\n",
              "\n",
              "    .dataframe tbody tr th {\n",
              "        vertical-align: top;\n",
              "    }\n",
              "\n",
              "    .dataframe thead th {\n",
              "        text-align: right;\n",
              "    }\n",
              "</style>\n",
              "<table border=\"1\" class=\"dataframe\">\n",
              "  <thead>\n",
              "    <tr style=\"text-align: right;\">\n",
              "      <th></th>\n",
              "      <th>BASEDATA</th>\n",
              "      <th>CONFIRMADOS</th>\n",
              "      <th>NEGATIVOS</th>\n",
              "      <th>OBITOCONFIRMADO</th>\n",
              "      <th>OBITONEGATIVO</th>\n",
              "      <th>OBITOSUSPEITO</th>\n",
              "      <th>OCUPACAOMUNICIPAL</th>\n",
              "      <th>PACIENTESINTERNADOS</th>\n",
              "      <th>SUSPEITOS</th>\n",
              "    </tr>\n",
              "  </thead>\n",
              "  <tbody>\n",
              "    <tr>\n",
              "      <th>0</th>\n",
              "      <td>25/05/2021</td>\n",
              "      <td>93509</td>\n",
              "      <td>278603</td>\n",
              "      <td>2333</td>\n",
              "      <td>1002</td>\n",
              "      <td>1002</td>\n",
              "      <td>90.0</td>\n",
              "      <td>423</td>\n",
              "      <td>41</td>\n",
              "    </tr>\n",
              "    <tr>\n",
              "      <th>1</th>\n",
              "      <td>24/05/2021</td>\n",
              "      <td>93264</td>\n",
              "      <td>277848</td>\n",
              "      <td>2326</td>\n",
              "      <td>1000</td>\n",
              "      <td>1000</td>\n",
              "      <td>96.0</td>\n",
              "      <td>437</td>\n",
              "      <td>40</td>\n",
              "    </tr>\n",
              "    <tr>\n",
              "      <th>2</th>\n",
              "      <td>23/05/2021</td>\n",
              "      <td>93075</td>\n",
              "      <td>277392</td>\n",
              "      <td>2314</td>\n",
              "      <td>995</td>\n",
              "      <td>995</td>\n",
              "      <td>91.0</td>\n",
              "      <td>442</td>\n",
              "      <td>63</td>\n",
              "    </tr>\n",
              "    <tr>\n",
              "      <th>3</th>\n",
              "      <td>22/05/2021</td>\n",
              "      <td>92891</td>\n",
              "      <td>276697</td>\n",
              "      <td>2304</td>\n",
              "      <td>993</td>\n",
              "      <td>993</td>\n",
              "      <td>91.0</td>\n",
              "      <td>440</td>\n",
              "      <td>49</td>\n",
              "    </tr>\n",
              "    <tr>\n",
              "      <th>4</th>\n",
              "      <td>21/05/2021</td>\n",
              "      <td>92619</td>\n",
              "      <td>275908</td>\n",
              "      <td>2297</td>\n",
              "      <td>993</td>\n",
              "      <td>993</td>\n",
              "      <td>93.0</td>\n",
              "      <td>439</td>\n",
              "      <td>55</td>\n",
              "    </tr>\n",
              "  </tbody>\n",
              "</table>\n",
              "</div>"
            ],
            "text/plain": [
              "     BASEDATA  CONFIRMADOS  ...  PACIENTESINTERNADOS  SUSPEITOS\n",
              "0  25/05/2021        93509  ...                  423         41\n",
              "1  24/05/2021        93264  ...                  437         40\n",
              "2  23/05/2021        93075  ...                  442         63\n",
              "3  22/05/2021        92891  ...                  440         49\n",
              "4  21/05/2021        92619  ...                  439         55\n",
              "\n",
              "[5 rows x 9 columns]"
            ]
          },
          "metadata": {
            "tags": []
          },
          "execution_count": 50
        }
      ]
    },
    {
      "cell_type": "code",
      "metadata": {
        "colab": {
          "base_uri": "https://localhost:8080/"
        },
        "id": "DgUP6lrkhSbj",
        "outputId": "893fac48-aa83-49b3-dfbd-a08a3851ed57"
      },
      "source": [
        "dados_brutos[\"OCUPACAOMUNICIPAL\"].isnull().value_counts()"
      ],
      "execution_count": null,
      "outputs": [
        {
          "output_type": "execute_result",
          "data": {
            "text/plain": [
              "False    431\n",
              "Name: OCUPACAOMUNICIPAL, dtype: int64"
            ]
          },
          "metadata": {
            "tags": []
          },
          "execution_count": 51
        }
      ]
    },
    {
      "cell_type": "code",
      "metadata": {
        "id": "nNhp5orOhpk6"
      },
      "source": [],
      "execution_count": null,
      "outputs": []
    },
    {
      "cell_type": "code",
      "metadata": {
        "colab": {
          "base_uri": "https://localhost:8080/",
          "height": 93
        },
        "id": "43Hg99oBG1Gz",
        "outputId": "4ae9d5f5-9e9b-4bd7-e97b-827590360b3a"
      },
      "source": [
        "teste  = micro_dados[\"NOMEBAIRRO\"].value_counts().index.values\n",
        "teste2 = micro_dados[\"NOMEBAIRRO\"].value_counts().values\n",
        "\n",
        "names  = dados_brutos[\"BASEDATA\"][:100]\n",
        "values = dados_brutos[\"OCUPACAOMUNICIPAL\"][:100].sort_values()\n",
        "\n",
        "plt.figure(figsize=(200, 10))\n",
        "\n",
        "plt.gca().invert_xaxis()\n",
        "plt.plot(names, values)\n",
        "plt.show()"
      ],
      "execution_count": null,
      "outputs": [
        {
          "output_type": "display_data",
          "data": {
            "image/png": "[encoded data removed]",
            "text/plain": [
              "<Figure size 14400x720 with 1 Axes>"
            ]
          },
          "metadata": {
            "tags": [],
            "needs_background": "light"
          }
        }
      ]
    },
    {
      "cell_type": "code",
      "metadata": {
        "id": "bMfqfi0toylj"
      },
      "source": [],
      "execution_count": null,
      "outputs": []
    },
    {
      "cell_type": "code",
      "metadata": {
        "id": "EW6EGGLk173Z"
      },
      "source": [],
      "execution_count": null,
      "outputs": []
    }
  ]
}